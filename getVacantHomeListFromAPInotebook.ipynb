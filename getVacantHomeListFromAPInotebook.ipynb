{
 "cells": [
  {
   "cell_type": "code",
   "execution_count": 27,
   "metadata": {},
   "outputs": [
    {
     "name": "stderr",
     "output_type": "stream",
     "text": [
      "WARNING:root:Requests made without an app_token will be subject to strict throttling limits.\n"
     ]
    }
   ],
   "source": [
    "#!/usr/bin/env python\n",
    "\n",
    "# make sure to install these packages before running:\n",
    "# pip install pandas\n",
    "# pip install sodapy\n",
    "\n",
    "import pandas as pd\n",
    "from sodapy import Socrata\n",
    "\n",
    "# Unauthenticated client only works with public data sets. Note 'None'\n",
    "# in place of application token, and no username or password:\n",
    "client = Socrata(\"data.baltimorecity.gov\", None)\n"
   ]
  },
  {
   "cell_type": "code",
   "execution_count": 34,
   "metadata": {},
   "outputs": [],
   "source": [
    "# Example authenticated client (needed for non-public datasets):\n",
    "# client = Socrata(data.baltimorecity.gov,\n",
    "#                  MyAppToken,\n",
    "#                  userame=\"user@example.com\",\n",
    "#                  password=\"AFakePassword\")\n",
    "\n",
    "# First 2000 results, returned as JSON from API / converted to Python list of\n",
    "# dictionaries by sodapy.\n",
    "results = client.get(\"qqcv-ihn5\", limit=18000)\n",
    "\n",
    "# Convert to pandas DataFrame\n",
    "results_df = pd.DataFrame.from_records(results)"
   ]
  },
  {
   "cell_type": "code",
   "execution_count": 35,
   "metadata": {},
   "outputs": [
    {
     "data": {
      "text/html": [
       "<div>\n",
       "<style scoped>\n",
       "    .dataframe tbody tr th:only-of-type {\n",
       "        vertical-align: middle;\n",
       "    }\n",
       "\n",
       "    .dataframe tbody tr th {\n",
       "        vertical-align: top;\n",
       "    }\n",
       "\n",
       "    .dataframe thead th {\n",
       "        text-align: right;\n",
       "    }\n",
       "</style>\n",
       "<table border=\"1\" class=\"dataframe\">\n",
       "  <thead>\n",
       "    <tr style=\"text-align: right;\">\n",
       "      <th></th>\n",
       "      <th>:@computed_region_5kre_ccpb</th>\n",
       "      <th>:@computed_region_s6p5_2pgr</th>\n",
       "      <th>block</th>\n",
       "      <th>buildingaddress</th>\n",
       "      <th>councildistrict</th>\n",
       "      <th>location</th>\n",
       "      <th>lot</th>\n",
       "      <th>neighborhood</th>\n",
       "      <th>noticedate</th>\n",
       "      <th>policedistrict</th>\n",
       "      <th>referenceid</th>\n",
       "    </tr>\n",
       "  </thead>\n",
       "  <tbody>\n",
       "    <tr>\n",
       "      <th>0</th>\n",
       "      <td>74</td>\n",
       "      <td>27301</td>\n",
       "      <td>0002</td>\n",
       "      <td>1945 W NORTH AVE</td>\n",
       "      <td>7</td>\n",
       "      <td>{'latitude': '39.30947261', 'longitude': '-76....</td>\n",
       "      <td>036</td>\n",
       "      <td>EASTERWOOD</td>\n",
       "      <td>2014-02-28T00:00:00.000</td>\n",
       "      <td>WESTERN</td>\n",
       "      <td>0002 036 022814</td>\n",
       "    </tr>\n",
       "    <tr>\n",
       "      <th>1</th>\n",
       "      <td>74</td>\n",
       "      <td>27301</td>\n",
       "      <td>0002</td>\n",
       "      <td>1947 W NORTH AVE</td>\n",
       "      <td>7</td>\n",
       "      <td>{'latitude': '39.30947009', 'longitude': '-76....</td>\n",
       "      <td>037</td>\n",
       "      <td>EASTERWOOD</td>\n",
       "      <td>2015-01-14T00:00:00.000</td>\n",
       "      <td>WESTERN</td>\n",
       "      <td>0002 037 011415</td>\n",
       "    </tr>\n",
       "    <tr>\n",
       "      <th>2</th>\n",
       "      <td>74</td>\n",
       "      <td>27301</td>\n",
       "      <td>0002</td>\n",
       "      <td>1949 W NORTH AVE</td>\n",
       "      <td>7</td>\n",
       "      <td>{'latitude': '39.30946762', 'longitude': '-76....</td>\n",
       "      <td>038</td>\n",
       "      <td>EASTERWOOD</td>\n",
       "      <td>2014-08-08T00:00:00.000</td>\n",
       "      <td>WESTERN</td>\n",
       "      <td>0002 038 080814</td>\n",
       "    </tr>\n",
       "    <tr>\n",
       "      <th>3</th>\n",
       "      <td>221</td>\n",
       "      <td>27301</td>\n",
       "      <td>0003</td>\n",
       "      <td>1807 W NORTH AVE</td>\n",
       "      <td>7</td>\n",
       "      <td>{'latitude': '39.30962804', 'longitude': '-76....</td>\n",
       "      <td>018</td>\n",
       "      <td>SANDTOWN-WINCHESTER</td>\n",
       "      <td>2013-04-18T00:00:00.000</td>\n",
       "      <td>WESTERN</td>\n",
       "      <td>0003 018 041813</td>\n",
       "    </tr>\n",
       "    <tr>\n",
       "      <th>4</th>\n",
       "      <td>221</td>\n",
       "      <td>27301</td>\n",
       "      <td>0003</td>\n",
       "      <td>1809 W NORTH AVE</td>\n",
       "      <td>7</td>\n",
       "      <td>{'latitude': '39.30962577', 'longitude': '-76....</td>\n",
       "      <td>019</td>\n",
       "      <td>SANDTOWN-WINCHESTER</td>\n",
       "      <td>2011-08-18T00:00:00.000</td>\n",
       "      <td>WESTERN</td>\n",
       "      <td>0003 019 081811</td>\n",
       "    </tr>\n",
       "  </tbody>\n",
       "</table>\n",
       "</div>"
      ],
      "text/plain": [
       "  :@computed_region_5kre_ccpb :@computed_region_s6p5_2pgr block  \\\n",
       "0                          74                       27301  0002   \n",
       "1                          74                       27301  0002   \n",
       "2                          74                       27301  0002   \n",
       "3                         221                       27301  0003   \n",
       "4                         221                       27301  0003   \n",
       "\n",
       "    buildingaddress councildistrict  \\\n",
       "0  1945 W NORTH AVE               7   \n",
       "1  1947 W NORTH AVE               7   \n",
       "2  1949 W NORTH AVE               7   \n",
       "3  1807 W NORTH AVE               7   \n",
       "4  1809 W NORTH AVE               7   \n",
       "\n",
       "                                            location  lot  \\\n",
       "0  {'latitude': '39.30947261', 'longitude': '-76....  036   \n",
       "1  {'latitude': '39.30947009', 'longitude': '-76....  037   \n",
       "2  {'latitude': '39.30946762', 'longitude': '-76....  038   \n",
       "3  {'latitude': '39.30962804', 'longitude': '-76....  018   \n",
       "4  {'latitude': '39.30962577', 'longitude': '-76....  019   \n",
       "\n",
       "          neighborhood               noticedate policedistrict  \\\n",
       "0           EASTERWOOD  2014-02-28T00:00:00.000        WESTERN   \n",
       "1           EASTERWOOD  2015-01-14T00:00:00.000        WESTERN   \n",
       "2           EASTERWOOD  2014-08-08T00:00:00.000        WESTERN   \n",
       "3  SANDTOWN-WINCHESTER  2013-04-18T00:00:00.000        WESTERN   \n",
       "4  SANDTOWN-WINCHESTER  2011-08-18T00:00:00.000        WESTERN   \n",
       "\n",
       "       referenceid  \n",
       "0  0002 036 022814  \n",
       "1  0002 037 011415  \n",
       "2  0002 038 080814  \n",
       "3  0003 018 041813  \n",
       "4  0003 019 081811  "
      ]
     },
     "execution_count": 35,
     "metadata": {},
     "output_type": "execute_result"
    }
   ],
   "source": [
    "results_df.head()"
   ]
  },
  {
   "cell_type": "code",
   "execution_count": 36,
   "metadata": {},
   "outputs": [
    {
     "data": {
      "text/plain": [
       "16784"
      ]
     },
     "execution_count": 36,
     "metadata": {},
     "output_type": "execute_result"
    }
   ],
   "source": [
    "len(results_df)"
   ]
  },
  {
   "cell_type": "code",
   "execution_count": 14,
   "metadata": {},
   "outputs": [
    {
     "name": "stdout",
     "output_type": "stream",
     "text": [
      "d1 = 2020-02-09\n",
      "d2 = February 09, 2020\n",
      "d3 = 02/09/20\n",
      "d4 = Feb-09-2020\n"
     ]
    }
   ],
   "source": [
    "from datetime import datetime, date\n",
    "\n",
    "today = date.today()\n",
    "\n",
    "# dd/mm/YY\n",
    "d1 = today.strftime(\"%Y-%m-%d\")\n",
    "print(\"d1 =\", d1)\n",
    "\n",
    "# Textual month, day and year\t\n",
    "d2 = today.strftime(\"%B %d, %Y\")\n",
    "print(\"d2 =\", d2)\n",
    "\n",
    "# mm/dd/y\n",
    "d3 = today.strftime(\"%m/%d/%y\")\n",
    "print(\"d3 =\", d3)\n",
    "\n",
    "# Month abbreviation, day and year\t\n",
    "d4 = today.strftime(\"%b-%d-%Y\")\n",
    "print(\"d4 =\", d4)"
   ]
  },
  {
   "cell_type": "code",
   "execution_count": 18,
   "metadata": {},
   "outputs": [],
   "source": [
    "timeNow = datetime.now()"
   ]
  },
  {
   "cell_type": "code",
   "execution_count": 20,
   "metadata": {},
   "outputs": [
    {
     "name": "stdout",
     "output_type": "stream",
     "text": [
      "t5 = 19_01\n"
     ]
    }
   ],
   "source": [
    "# Month abbreviation, day and year\t\n",
    "t5 = timeNow.strftime(\"%H_%M\")\n",
    "print(\"t5 =\",t5)"
   ]
  },
  {
   "cell_type": "code",
   "execution_count": 21,
   "metadata": {},
   "outputs": [
    {
     "name": "stdout",
     "output_type": "stream",
     "text": [
      "2020-02-09_19_01\n"
     ]
    }
   ],
   "source": [
    "print(d1+'_'+t5)"
   ]
  },
  {
   "cell_type": "code",
   "execution_count": 26,
   "metadata": {},
   "outputs": [],
   "source": [
    "#write out to csv\n",
    "results_df.to_csv(\"practice_delete_later.csv\")"
   ]
  }
 ],
 "metadata": {
  "kernelspec": {
   "display_name": "Python 3",
   "language": "python",
   "name": "python3"
  },
  "language_info": {
   "codemirror_mode": {
    "name": "ipython",
    "version": 3
   },
   "file_extension": ".py",
   "mimetype": "text/x-python",
   "name": "python",
   "nbconvert_exporter": "python",
   "pygments_lexer": "ipython3",
   "version": "3.7.3"
  }
 },
 "nbformat": 4,
 "nbformat_minor": 2
}
