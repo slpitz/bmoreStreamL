{
 "cells": [
  {
   "cell_type": "code",
   "execution_count": 1,
   "metadata": {},
   "outputs": [
    {
     "name": "stderr",
     "output_type": "stream",
     "text": [
      "WARNING:root:Requests made without an app_token will be subject to strict throttling limits.\n"
     ]
    }
   ],
   "source": [
    "#!/usr/bin/env python\n",
    "\n",
    "# make sure to install these packages before running:\n",
    "# pip install pandas\n",
    "# pip install sodapy\n",
    "\n",
    "import os\n",
    "import pandas as pd\n",
    "from sodapy import Socrata\n",
    "\n",
    "# Unauthenticated client only works with public data sets. Note 'None'\n",
    "# in place of application token, and no username or password:\n",
    "client = Socrata(\"data.baltimorecity.gov\", None)\n"
   ]
  },
  {
   "cell_type": "code",
   "execution_count": 2,
   "metadata": {},
   "outputs": [],
   "source": [
    "# Example authenticated client (needed for non-public datasets):\n",
    "# client = Socrata(data.baltimorecity.gov,\n",
    "#                  MyAppToken,\n",
    "#                  userame=\"user@example.com\",\n",
    "#                  password=\"AFakePassword\")\n",
    "\n",
    "# First 2000 results, returned as JSON from API / converted to Python list of\n",
    "# dictionaries by sodapy.\n",
    "results = client.get(\"qqcv-ihn5\", limit=18000)\n",
    "\n",
    "# Convert to pandas DataFrame\n",
    "results_df = pd.DataFrame.from_records(results)"
   ]
  },
  {
   "cell_type": "code",
   "execution_count": 3,
   "metadata": {},
   "outputs": [
    {
     "data": {
      "text/html": [
       "<div>\n",
       "<style scoped>\n",
       "    .dataframe tbody tr th:only-of-type {\n",
       "        vertical-align: middle;\n",
       "    }\n",
       "\n",
       "    .dataframe tbody tr th {\n",
       "        vertical-align: top;\n",
       "    }\n",
       "\n",
       "    .dataframe thead th {\n",
       "        text-align: right;\n",
       "    }\n",
       "</style>\n",
       "<table border=\"1\" class=\"dataframe\">\n",
       "  <thead>\n",
       "    <tr style=\"text-align: right;\">\n",
       "      <th></th>\n",
       "      <th>referenceid</th>\n",
       "      <th>block</th>\n",
       "      <th>lot</th>\n",
       "      <th>buildingaddress</th>\n",
       "      <th>noticedate</th>\n",
       "      <th>neighborhood</th>\n",
       "      <th>policedistrict</th>\n",
       "      <th>councildistrict</th>\n",
       "      <th>location</th>\n",
       "      <th>:@computed_region_s6p5_2pgr</th>\n",
       "      <th>:@computed_region_5kre_ccpb</th>\n",
       "      <th>:@computed_region_gwq4_fjxs</th>\n",
       "    </tr>\n",
       "  </thead>\n",
       "  <tbody>\n",
       "    <tr>\n",
       "      <th>0</th>\n",
       "      <td>2134 042 082508</td>\n",
       "      <td>2134</td>\n",
       "      <td>042</td>\n",
       "      <td>2804 WILKENS AVE</td>\n",
       "      <td>2008-08-25T00:00:00.000</td>\n",
       "      <td>Gwynns Falls</td>\n",
       "      <td>Southwestern</td>\n",
       "      <td>10</td>\n",
       "      <td>{'latitude': '39.27697563', 'longitude': '-76....</td>\n",
       "      <td>27632</td>\n",
       "      <td>100</td>\n",
       "      <td>282</td>\n",
       "    </tr>\n",
       "    <tr>\n",
       "      <th>1</th>\n",
       "      <td>0185 044 081212</td>\n",
       "      <td>0185</td>\n",
       "      <td>044</td>\n",
       "      <td>1112 W FAYETTE ST</td>\n",
       "      <td>2012-08-12T00:00:00.000</td>\n",
       "      <td>Poppleton</td>\n",
       "      <td>Western</td>\n",
       "      <td>9</td>\n",
       "      <td>{'latitude': '39.29002216', 'longitude': '-76....</td>\n",
       "      <td>27632</td>\n",
       "      <td>201</td>\n",
       "      <td>8</td>\n",
       "    </tr>\n",
       "    <tr>\n",
       "      <th>2</th>\n",
       "      <td>3268 031 020117</td>\n",
       "      <td>3268</td>\n",
       "      <td>031</td>\n",
       "      <td>2010 ELGIN LANE</td>\n",
       "      <td>2017-02-01T00:00:00.000</td>\n",
       "      <td>Mondawmin</td>\n",
       "      <td>Western</td>\n",
       "      <td>7</td>\n",
       "      <td>{'latitude': '39.31451131', 'longitude': '-76....</td>\n",
       "      <td>27301</td>\n",
       "      <td>157</td>\n",
       "      <td>39</td>\n",
       "    </tr>\n",
       "    <tr>\n",
       "      <th>3</th>\n",
       "      <td>4097 025 041018</td>\n",
       "      <td>4097</td>\n",
       "      <td>025</td>\n",
       "      <td>1129 GORSUCH AVE</td>\n",
       "      <td>2018-04-10T00:00:00.000</td>\n",
       "      <td>Better Waverly</td>\n",
       "      <td>Northern</td>\n",
       "      <td>14</td>\n",
       "      <td>{'latitude': '39.32508261', 'longitude': '-76....</td>\n",
       "      <td>27307</td>\n",
       "      <td>16</td>\n",
       "      <td>180</td>\n",
       "    </tr>\n",
       "    <tr>\n",
       "      <th>4</th>\n",
       "      <td>5325B049 093018</td>\n",
       "      <td>5325B</td>\n",
       "      <td>049</td>\n",
       "      <td>0</td>\n",
       "      <td>2018-09-30T00:00:00.000</td>\n",
       "      <td>Loch Raven</td>\n",
       "      <td>Notheastern</td>\n",
       "      <td>4</td>\n",
       "      <td>{'latitude': '39.35815675', 'longitude': '-76....</td>\n",
       "      <td>28564</td>\n",
       "      <td>64</td>\n",
       "      <td>259</td>\n",
       "    </tr>\n",
       "  </tbody>\n",
       "</table>\n",
       "</div>"
      ],
      "text/plain": [
       "       referenceid  block  lot    buildingaddress               noticedate  \\\n",
       "0  2134 042 082508   2134  042   2804 WILKENS AVE  2008-08-25T00:00:00.000   \n",
       "1  0185 044 081212   0185  044  1112 W FAYETTE ST  2012-08-12T00:00:00.000   \n",
       "2  3268 031 020117   3268  031    2010 ELGIN LANE  2017-02-01T00:00:00.000   \n",
       "3  4097 025 041018   4097  025   1129 GORSUCH AVE  2018-04-10T00:00:00.000   \n",
       "4  5325B049 093018  5325B  049                  0  2018-09-30T00:00:00.000   \n",
       "\n",
       "     neighborhood policedistrict councildistrict  \\\n",
       "0    Gwynns Falls   Southwestern              10   \n",
       "1       Poppleton        Western               9   \n",
       "2       Mondawmin        Western               7   \n",
       "3  Better Waverly       Northern              14   \n",
       "4      Loch Raven    Notheastern               4   \n",
       "\n",
       "                                            location  \\\n",
       "0  {'latitude': '39.27697563', 'longitude': '-76....   \n",
       "1  {'latitude': '39.29002216', 'longitude': '-76....   \n",
       "2  {'latitude': '39.31451131', 'longitude': '-76....   \n",
       "3  {'latitude': '39.32508261', 'longitude': '-76....   \n",
       "4  {'latitude': '39.35815675', 'longitude': '-76....   \n",
       "\n",
       "  :@computed_region_s6p5_2pgr :@computed_region_5kre_ccpb  \\\n",
       "0                       27632                         100   \n",
       "1                       27632                         201   \n",
       "2                       27301                         157   \n",
       "3                       27307                          16   \n",
       "4                       28564                          64   \n",
       "\n",
       "  :@computed_region_gwq4_fjxs  \n",
       "0                         282  \n",
       "1                           8  \n",
       "2                          39  \n",
       "3                         180  \n",
       "4                         259  "
      ]
     },
     "execution_count": 3,
     "metadata": {},
     "output_type": "execute_result"
    }
   ],
   "source": [
    "results_df.head()"
   ]
  },
  {
   "cell_type": "code",
   "execution_count": 4,
   "metadata": {},
   "outputs": [
    {
     "data": {
      "text/plain": [
       "16722"
      ]
     },
     "execution_count": 4,
     "metadata": {},
     "output_type": "execute_result"
    }
   ],
   "source": [
    "len(results_df)"
   ]
  },
  {
   "cell_type": "code",
   "execution_count": 23,
   "metadata": {},
   "outputs": [],
   "source": [
    "from datetime import datetime, date\n",
    "\n",
    "today = date.today() #date\n",
    "timeNow = datetime.now() #time\n",
    "\n",
    "# date YYYY_MM_DD\n",
    "d1 = today.strftime(\"%Y_%m_%d\")\n",
    "t5 = timeNow.strftime(\"%H_%M\")\n"
   ]
  },
  {
   "cell_type": "code",
   "execution_count": 26,
   "metadata": {},
   "outputs": [
    {
     "name": "stdout",
     "output_type": "stream",
     "text": [
      "vacantHomeList_2020_07_30_21_31.csv\n"
     ]
    }
   ],
   "source": [
    "print('vacantHomeList_'+d1+'_'+t5+'.csv')"
   ]
  },
  {
   "cell_type": "code",
   "execution_count": 27,
   "metadata": {},
   "outputs": [],
   "source": [
    "vacantFilename = 'vacantHomeList_'+d1+'_'+t5+'.csv'"
   ]
  },
  {
   "cell_type": "code",
   "execution_count": 28,
   "metadata": {},
   "outputs": [],
   "source": [
    "#write out to csv\n",
    "results_df.to_csv(vacantFilename)"
   ]
  },
  {
   "cell_type": "code",
   "execution_count": 29,
   "metadata": {},
   "outputs": [
    {
     "data": {
      "text/plain": [
       "'C:\\\\Users\\\\Scott\\\\Documents\\\\GithubRepositories\\\\bmoreRoofGIS\\\\bmoreStreamL'"
      ]
     },
     "execution_count": 29,
     "metadata": {},
     "output_type": "execute_result"
    }
   ],
   "source": [
    "\n",
    "os.getcwd()"
   ]
  },
  {
   "cell_type": "code",
   "execution_count": 31,
   "metadata": {},
   "outputs": [
    {
     "name": "stdout",
     "output_type": "stream",
     "text": [
      "Already there\n"
     ]
    }
   ],
   "source": [
    "try:\n",
    "    os.mkdir('currentVacants')\n",
    "except:\n",
    "    print('Already there')"
   ]
  },
  {
   "cell_type": "code",
   "execution_count": null,
   "metadata": {},
   "outputs": [],
   "source": []
  }
 ],
 "metadata": {
  "kernelspec": {
   "display_name": "Python 3",
   "language": "python",
   "name": "python3"
  },
  "language_info": {
   "codemirror_mode": {
    "name": "ipython",
    "version": 3
   },
   "file_extension": ".py",
   "mimetype": "text/x-python",
   "name": "python",
   "nbconvert_exporter": "python",
   "pygments_lexer": "ipython3",
   "version": "3.7.4"
  }
 },
 "nbformat": 4,
 "nbformat_minor": 2
}
